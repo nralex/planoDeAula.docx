{
 "cells": [
  {
   "cell_type": "code",
   "execution_count": 15,
   "metadata": {},
   "outputs": [],
   "source": [
    "from docx import Document"
   ]
  },
  {
   "cell_type": "code",
   "execution_count": 17,
   "metadata": {},
   "outputs": [
    {
     "name": "stdout",
     "output_type": "stream",
     "text": [
      "ELEMENTOS ESTRUTURANTES\n",
      "Competência geral:\n",
      "Competência específica da área:\n",
      "\n"
     ]
    }
   ],
   "source": [
    "# Abrir o documento\n",
    "doc = Document(\"FGB.docx\")\n",
    "\n",
    "# percorrer os parágrafos\n",
    "for p in doc.paragraphs:\n",
    "    # Obter o conteúdo do parágrafo\n",
    "    text = p.text\n",
    "    # Faça algo com o conteúdo do parágrafo\n",
    "    print(text)"
   ]
  },
  {
   "cell_type": "code",
   "execution_count": 18,
   "metadata": {},
   "outputs": [
    {
     "name": "stdout",
     "output_type": "stream",
     "text": [
      "UNIDADE ESCOLAR:\n",
      "PROFESSOR(A):\n",
      "TURMA:\n",
      "ÁREA DO CONHECIMENTO:\n",
      "COMPONENTE CURRICULAR:\n",
      "PERÍODO:\n",
      "Habilidade da área\n",
      "Habilidade Específica do componente Língua Portuguesa\n",
      "Integração entre as áreas e/ou componentes\n",
      "Objetivos de aprendizagem\n",
      "Objetos do Conhecimento\n",
      "Metodologia\n",
      "Material de apoio\n",
      "Estratégia de Avaliação\n",
      "\n",
      "\n",
      "\n",
      "\n",
      "\n",
      "\n",
      "\n",
      "\n"
     ]
    }
   ],
   "source": [
    "# Abrir o documento\n",
    "doc = Document(\"FGB.docx\")\n",
    "\n",
    "# Percorrer as tabelas no documento\n",
    "for table in doc.tables:\n",
    "    # Percorrer as linhas da tabela\n",
    "    for row in table.rows:\n",
    "        # Percorrer as células da linha\n",
    "        for cell in row.cells:\n",
    "            # Obter o conteúdo da célula\n",
    "            cell_text = cell.text\n",
    "            # Faça algo com o conteúdo da célula\n",
    "            print(cell_text)"
   ]
  }
 ],
 "metadata": {
  "kernelspec": {
   "display_name": "venv",
   "language": "python",
   "name": "python3"
  },
  "language_info": {
   "codemirror_mode": {
    "name": "ipython",
    "version": 3
   },
   "file_extension": ".py",
   "mimetype": "text/x-python",
   "name": "python",
   "nbconvert_exporter": "python",
   "pygments_lexer": "ipython3",
   "version": "3.11.6"
  }
 },
 "nbformat": 4,
 "nbformat_minor": 2
}
